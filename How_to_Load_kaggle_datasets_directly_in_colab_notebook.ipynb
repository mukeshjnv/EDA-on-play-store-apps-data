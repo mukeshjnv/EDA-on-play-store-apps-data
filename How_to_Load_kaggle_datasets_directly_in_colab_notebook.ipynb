{
  "nbformat": 4,
  "nbformat_minor": 0,
  "metadata": {
    "colab": {
      "provenance": [],
      "authorship_tag": "ABX9TyPYay4pfR3ZWB7Otw173c/C",
      "include_colab_link": true
    },
    "kernelspec": {
      "name": "python3",
      "display_name": "Python 3"
    },
    "language_info": {
      "name": "python"
    }
  },
  "cells": [
    {
      "cell_type": "markdown",
      "metadata": {
        "id": "view-in-github",
        "colab_type": "text"
      },
      "source": [
        "<a href=\"https://colab.research.google.com/github/Mukeshjnv/EDA-on-play-store-apps-data/blob/main/How_to_Load_kaggle_datasets_directly_in_colab_notebook.ipynb\" target=\"_parent\"><img src=\"https://colab.research.google.com/assets/colab-badge.svg\" alt=\"Open In Colab\"/></a>"
      ]
    },
    {
      "cell_type": "markdown",
      "source": [
        "# How to Load kaggle datasets directly in colab notebook"
      ],
      "metadata": {
        "id": "PVVEd1pt-tfd"
      }
    },
    {
      "cell_type": "code",
      "execution_count": null,
      "metadata": {
        "id": "N_xDelJV-sjl"
      },
      "outputs": [],
      "source": [
        "# installing kaggle pakage used for importing kaggle datasets\n",
        "!pip install kaggle"
      ]
    },
    {
      "cell_type": "markdown",
      "source": [
        "Create a Kaggle API from Your kaggle account"
      ],
      "metadata": {
        "id": "BaTvQWj9Dra6"
      }
    },
    {
      "cell_type": "code",
      "source": [
        "# Upload the downloaded jason file here\n",
        "from google.colab import files\n",
        "files.upload()"
      ],
      "metadata": {
        "id": "V4feym6BAAHl"
      },
      "execution_count": null,
      "outputs": []
    },
    {
      "cell_type": "markdown",
      "source": [
        "The Kaggle API client expects the json file to be in ~/.kaggle folder so "
      ],
      "metadata": {
        "id": "f6gtDt72Dy0d"
      }
    },
    {
      "cell_type": "code",
      "source": [
        "# let’s create a new folder and move it inside.\n",
        "!mkdir -p ~/.kaggle\n",
        "!cp kaggle.json ~/.kaggle/\n",
        "!chmod 600 ~/.kaggle/kaggle.json"
      ],
      "metadata": {
        "id": "H4yA3gioAmKQ"
      },
      "execution_count": 3,
      "outputs": []
    },
    {
      "cell_type": "markdown",
      "source": [
        "Now copy API command of the particular dataset you wish  to load from the website and paste the code here"
      ],
      "metadata": {
        "id": "JUmF-r88D5TI"
      }
    },
    {
      "cell_type": "code",
      "source": [
        "!kaggle datasets download -d rounakbanik/the-movies-dataset"
      ],
      "metadata": {
        "colab": {
          "base_uri": "https://localhost:8080/"
        },
        "id": "tkjwOsMaA7yc",
        "outputId": "8d4bf11b-f1b1-4101-d35e-f61c4be56b88"
      },
      "execution_count": 4,
      "outputs": [
        {
          "output_type": "stream",
          "name": "stdout",
          "text": [
            "Downloading the-movies-dataset.zip to /content\n",
            " 95% 216M/228M [00:02<00:00, 107MB/s]\n",
            "100% 228M/228M [00:02<00:00, 104MB/s]\n"
          ]
        }
      ]
    },
    {
      "cell_type": "code",
      "source": [
        "# Unzip the loaded file\n",
        "import zipfile\n",
        "zip_ref = zipfile.ZipFile('the-movies-dataset.zip', 'r')\n",
        "zip_ref.extractall('files')\n",
        "zip_ref.close()"
      ],
      "metadata": {
        "id": "SPODSFZiBV0J"
      },
      "execution_count": 6,
      "outputs": []
    },
    {
      "cell_type": "markdown",
      "source": [
        "Now all the files in zipped file is extracted and are available in the left file window. If it is not availabe then just refresh. It would be visible then"
      ],
      "metadata": {
        "id": "umoLqy3yB4nT"
      }
    }
  ]
}